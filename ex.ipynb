import random
import time

# Define the cards
card_deck = [
    {"Name": "Diablo", "Health": 100, "Attack": 90, "Defense": 60},
    {"Name": "Medusa", "Health": 100, "Attack": 70, "Defense": 70},
    {"Name": "Jester", "Health": 120, "Attack": 60, "Defense": 90},
    {"Name": "Troll", "Health": 150, "Attack": 40, "Defense": 94},
    {"Name": "Specter", "Health": 100, "Attack": 70, "Defense": 70},
    {"Name": "Mist", "Health": 100, "Attack": 75, "Defense": 65},
    {"Name": "Savage", "Health": 100, "Attack": 90, "Defense": 50},
    {"Name": "Marauder", "Health": 100, "Attack": 85, "Defense": 50},
    {"Name": "Wimp", "Health": 110, "Attack": 40, "Defense": 85},
    {"Name": "Sorcerer", "Health": 100, "Attack": 70, "Defense": 55}
]

# Function to initialize a new game with random decks
def initialize_decks(deck_size):
    player_deck = random.sample(card_deck, deck_size)
    opponent_deck = random.sample(card_deck, deck_size)
    return player_deck, opponent_deck

# Function to print card details
def print_card_details(card):
    return (f"Name: {card['Name']}\n"
            f"Health: {card['Health']}\n"
            f"Attack: {card['Attack']}\n"
            f"Defense: {card['Defense']}\n")

# Function to handle an attack
def perform_attack(player_card, opponent_card):
    # First, the player's card attacks the opponent's card
    print(f"Player's {player_card['Name']} attacks!")
    damage = player_card['Attack'] - opponent_card['Defense']
    if damage > 0:
        opponent_card['Health'] -= damage
        opponent_card['Defense'] = 0
        print(f"{opponent_card['Name']} takes {damage} damage. Health is now {opponent_card['Health']}.")
    else:
        print(f"{opponent_card['Name']} successfully defends the attack.")
    
    if opponent_card['Health'] <= 0:
        print(f"{opponent_card['Name']} is defeated!")
        return True
    return False

# Game loop
def play_game():
    deck_size = 5
    player_deck, opponent_deck = initialize_decks(deck_size)
    
    while player_deck and opponent_deck:
        print("\nYour current deck:")
        for i, card in enumerate(player_deck):
            print(f"{i + 1}: {print_card_details(card)}")
        
        opponent_card = random.choice(opponent_deck)
        print("\nOpponent's card:")
        print(print_card_details(opponent_card))
        
        try:
            card_choice = int(input("Choose a card to fight (number): ")) - 1
            if card_choice < 0 or card_choice >= len(player_deck):
                raise ValueError("Invalid card number.")
        except ValueError as e:
            print(e)
            continue

        player_card = player_deck.pop(card_choice)
        
        if perform_attack(player_card, opponent_card):
            opponent_deck.remove(opponent_card)
        
        if not opponent_deck:
            print("Congratulations! You win!")
            return
        
        time.sleep(3)
        print("\nOpponent's turn:")
        
        if not opponent_deck:
            print("Opponent has no cards left. You win!")
            return
        
        opponent_card = random.choice(opponent_deck)
        print(f"Opponent's card:\n{print_card_details(opponent_card)}")
        
        # Simulate opponent attack
        player_card = random.choice(player_deck)
        print(f"Opponent chooses to attack with {player_card['Name']}!")
        if perform_attack(opponent_card, player_card):
            player_deck.remove(player_card)
        
        if not player_deck:
            print("Game over! The opponent wins.")
            return
        
        time.sleep(3)
        
play_game()
